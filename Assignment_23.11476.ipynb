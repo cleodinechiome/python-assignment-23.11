{
 "cells": [
  {
   "cell_type": "code",
   "execution_count": 2,
   "metadata": {},
   "outputs": [
    {
     "name": "stdout",
     "output_type": "stream",
     "text": [
      "Enter comma separated numbers 1,2,3,4,5,6,7,8.9,9,8,7.8\n",
      "List :  ['1', '2', '3', '4', '5', '6', '7', '8.9', '9', '8', '7.8']\n"
     ]
    }
   ],
   "source": [
    "#Write a program which accepts a sequence of comma-separated numbers from console and generate a list\n",
    "\n",
    "numbers = input(\"Enter comma separated numbers \")\n",
    "values = numbers.split(\",\")\n",
    "print('List : ', values)"
   ]
  },
  {
   "cell_type": "code",
   "execution_count": null,
   "metadata": {},
   "outputs": [],
   "source": []
  }
 ],
 "metadata": {
  "kernelspec": {
   "display_name": "Python 3",
   "language": "python",
   "name": "python3"
  },
  "language_info": {
   "codemirror_mode": {
    "name": "ipython",
    "version": 3
   },
   "file_extension": ".py",
   "mimetype": "text/x-python",
   "name": "python",
   "nbconvert_exporter": "python",
   "pygments_lexer": "ipython3",
   "version": "3.7.0"
  }
 },
 "nbformat": 4,
 "nbformat_minor": 2
}
